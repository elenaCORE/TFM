{
 "cells": [
  {
   "cell_type": "markdown",
   "metadata": {},
   "source": [
    "# Conjunto de entrenamiento: Etiquetado de datos"
   ]
  },
  {
   "cell_type": "markdown",
   "metadata": {},
   "source": [
    "## 1. Creación de dataset de entrenamiento"
   ]
  },
  {
   "cell_type": "code",
   "execution_count": null,
   "metadata": {},
   "outputs": [],
   "source": [
    "import pandas as pd\n",
    "from pandas import Series, DataFrame\n",
    "\n",
    "from matplotlib import pyplot as plt\n",
    "\n",
    "df = pd.read_json('manifest.json')"
   ]
  },
  {
   "cell_type": "code",
   "execution_count": null,
   "metadata": {},
   "outputs": [],
   "source": [
    "df.shape"
   ]
  },
  {
   "cell_type": "code",
   "execution_count": 3,
   "metadata": {},
   "outputs": [
    {
     "data": {
      "text/plain": [
       "Index(['created_at', 'id', 'id_str', 'text', 'display_text_range', 'source',\n",
       "       'truncated', 'in_reply_to_status_id', 'in_reply_to_status_id_str',\n",
       "       'in_reply_to_user_id', 'in_reply_to_user_id_str',\n",
       "       'in_reply_to_screen_name', 'user', 'geo', 'coordinates', 'place',\n",
       "       'contributors', 'is_quote_status', 'quote_count', 'reply_count',\n",
       "       'retweet_count', 'favorite_count', 'entities', 'favorited', 'retweeted',\n",
       "       'filter_level', 'lang', 'timestamp_ms', 'retweeted_status',\n",
       "       'extended_entities', 'possibly_sensitive', 'quoted_status_id',\n",
       "       'quoted_status_id_str', 'quoted_status', 'quoted_status_permalink',\n",
       "       'extended_tweet', 'withheld_in_countries'],\n",
       "      dtype='object')"
      ]
     },
     "execution_count": 3,
     "metadata": {},
     "output_type": "execute_result"
    }
   ],
   "source": [
    "df.columns"
   ]
  },
  {
   "cell_type": "code",
   "execution_count": 5,
   "metadata": {},
   "outputs": [],
   "source": [
    "user = pd.DataFrame([md for md in df.user])"
   ]
  },
  {
   "cell_type": "code",
   "execution_count": 6,
   "metadata": {},
   "outputs": [
    {
     "data": {
      "text/plain": [
       "Index(['id', 'id_str', 'name', 'screen_name', 'location', 'url', 'description',\n",
       "       'translator_type', 'protected', 'verified', 'followers_count',\n",
       "       'friends_count', 'listed_count', 'favourites_count', 'statuses_count',\n",
       "       'created_at', 'utc_offset', 'time_zone', 'geo_enabled', 'lang',\n",
       "       'contributors_enabled', 'is_translator', 'profile_background_color',\n",
       "       'profile_background_image_url', 'profile_background_image_url_https',\n",
       "       'profile_background_tile', 'profile_link_color',\n",
       "       'profile_sidebar_border_color', 'profile_sidebar_fill_color',\n",
       "       'profile_text_color', 'profile_use_background_image',\n",
       "       'profile_image_url', 'profile_image_url_https', 'default_profile',\n",
       "       'default_profile_image', 'following', 'follow_request_sent',\n",
       "       'notifications', 'profile_banner_url'],\n",
       "      dtype='object')"
      ]
     },
     "execution_count": 6,
     "metadata": {},
     "output_type": "execute_result"
    }
   ],
   "source": [
    "user.columns"
   ]
  },
  {
   "cell_type": "code",
   "execution_count": 7,
   "metadata": {},
   "outputs": [],
   "source": [
    "data = pd.DataFrame(user) "
   ]
  },
  {
   "cell_type": "code",
   "execution_count": 8,
   "metadata": {},
   "outputs": [
    {
     "data": {
      "text/plain": [
       "(550000, 39)"
      ]
     },
     "execution_count": 8,
     "metadata": {},
     "output_type": "execute_result"
    }
   ],
   "source": [
    "data.shape"
   ]
  },
  {
   "cell_type": "code",
   "execution_count": null,
   "metadata": {},
   "outputs": [],
   "source": [
    "data[\"isAutomated\"] = 0"
   ]
  },
  {
   "cell_type": "code",
   "execution_count": 9,
   "metadata": {},
   "outputs": [],
   "source": [
    "\n",
    "data['source']= df['source']\n",
    "data['id2']= df['id']\n",
    "data['text']= df['text']\n",
    "data['tweet_created_at']= df['created_at']\n",
    "data['geo']= df['geo']\n",
    "data['coordinates']= df['coordinates']\n",
    "data['place']= df['place']\n",
    "data['reply_count']= df['reply_count']\n",
    "data['retweet_count']= df['retweet_count']\n",
    "data['favorite_count']= df['favorite_count']\n",
    "data['favorited']= df['favorited']\n",
    "data['retweeted']= df['retweeted']\n",
    "data['possibly_sensitive']= df['possibly_sensitive']\n",
    "data['lang']= df['lang']\n",
    "data['timestamp_ms']= df['timestamp_ms']"
   ]
  },
  {
   "cell_type": "code",
   "execution_count": 10,
   "metadata": {},
   "outputs": [
    {
     "name": "stderr",
     "output_type": "stream",
     "text": [
      "/Users/elena/opt/anaconda3/lib/python3.7/site-packages/pandas/core/indexing.py:670: SettingWithCopyWarning: \n",
      "A value is trying to be set on a copy of a slice from a DataFrame\n",
      "\n",
      "See the caveats in the documentation: https://pandas.pydata.org/pandas-docs/stable/user_guide/indexing.html#returning-a-view-versus-a-copy\n",
      "  self._setitem_with_indexer(indexer, value)\n"
     ]
    }
   ],
   "source": [
    "for p in data.iterrows():\n",
    "    if (\"bot\" in p[1]['source'] or \"tweetdeck\" in p[1]['source'] or \"hootsuite\" in p[1]['source'] or \"pulse\" in p[1]['source'] or \"buffer\" in p[1]['source'] or \"agorapulse\" in p[1]['source'] or \"peing\" in p[1]['source'] or \"dlvrit\" in p[1]['source'] or \"zapier\" in p[1]['source'] or \"stafsmoketest\" in p[1]['source'] or \"lithium\" in p[1]['source'] or \"IFTTT\"in p[1]['source']):\n",
    "        \n",
    "        data[\"isAutomated\"].iloc[p[0]] = 1"
   ]
  },
  {
   "cell_type": "markdown",
   "metadata": {},
   "source": [
    "## 2. Creación de árbol de decisión a mano"
   ]
  },
  {
   "cell_type": "code",
   "execution_count": 11,
   "metadata": {},
   "outputs": [],
   "source": [
    "##Primer split: ¿El tweet proviene de una fuente automática?\n",
    "derecha = pd.DataFrame()\n",
    "izquierda = pd.DataFrame()\n",
    "def primer_split(data):\n",
    "    derecha = (data.loc[data[\"isAutomated\"] == True] )\n",
    "    izquierda = (data.loc[data[\"isAutomated\"] == False] )\n",
    "    derecha\n",
    "    return derecha;"
   ]
  },
  {
   "cell_type": "code",
   "execution_count": 12,
   "metadata": {},
   "outputs": [],
   "source": [
    "##Second split: ¿La cuenta del tweet esta verificada?\n",
    "\n",
    "def second_split(derecha): \n",
    "    derecha = pd.DataFrame(derecha.loc[derecha['verified'] == False] )\n",
    "    izquierda = pd.DataFrame(derecha.loc[derecha['verified'] == True] )\n",
    "    return derecha"
   ]
  },
  {
   "cell_type": "code",
   "execution_count": 13,
   "metadata": {},
   "outputs": [],
   "source": [
    "##Third split: ¿Hay mucha diferencia entre seguidores y seguidos?\n",
    "def third_split(derecha\n",
    "    derecha = pd.DataFrame(derecha.loc[ derecha['followers_count']- derecha['friends_count'] > 15000] )\n",
    "    izquierda = pd.DataFrame(derecha.loc[ derecha['followers_count']- derecha['friends_count'] < 1000] )\n",
    "    return derecha"
   ]
  },
  {
   "cell_type": "code",
   "execution_count": 14,
   "metadata": {},
   "outputs": [],
   "source": [
    "##Fourth split: ¿La cuenta tweetea mucho?\n",
    "##Find best split\n",
    "isBot = pd.DataFrame()\n",
    "NotBot = pd.DataFrame()\n",
    "def fourth_split(derecha):\n",
    "    isBot = pd.DataFrame(derecha.loc[ derecha['statuses_count'] > 10000] )\n",
    "    NotBot = pd.DataFrame(derecha.loc[ derecha['statuses_count']< 10000] )\n",
    "    BotNames = isBot['screen_name']\n",
    "    return isBot"
   ]
  },
  {
   "cell_type": "code",
   "execution_count": 15,
   "metadata": {},
   "outputs": [],
   "source": [
    "##¿Cómo se llaman los usuarios de las cuentas?\n",
    "def find_names(isBot):\n",
    "    names = isBot['screen_name'].unique()\n",
    "    return names"
   ]
  },
  {
   "cell_type": "code",
   "execution_count": 16,
   "metadata": {},
   "outputs": [
    {
     "data": {
      "text/plain": [
       "array(['joniele13', 'AsterloreRB', 'celebritykimdot', 'fuwafuwanokuma',\n",
       "       'marisascruz', 'INTLGLOBALrp', 'OnetWiadomosci', 'therakyatpost',\n",
       "       'ModiforPMOrg', 'NinoProdigio', 'Whalepool_Labs', 'Tenerife_Ocio',\n",
       "       'MamaWikwik', 'nnaaiiff5', 'boshi3', 'Medi1TV', 'GarudaCares',\n",
       "       'JoeyTribbiiani', 'itz_pandian', 'ichio_x', 'Law_Effect_Bot',\n",
       "       'Ansa_Piemonte', 'Satomi_pic', 'mita___21', 'NewsBollywood',\n",
       "       'DiarioBitcoin', 'wccftechdotcom', 'BawaHS', 'gloomynews',\n",
       "       'machinelearnflx', 'AnxietyUK', 'VysotskyQuote', 'pikachu_pcn',\n",
       "       'SocCivilMx', 'aman122322', 'bundatatan', 'PRFMnews',\n",
       "       'ScienceAlert', 'disney_home', 'NUFCThreatLevel', 'Charlotte__77',\n",
       "       'MandyRosedotCOM', 'barqnewskw', 'basquetplus', 'wvgazettemail',\n",
       "       'rsumen', 'EbruTVKenya', 'BurganNewsKW', 'rutadelmaule',\n",
       "       'jockosrocket', 'TasbihIstighfar', 'breakcuffsegy', 'Mag_HR',\n",
       "       'agripulse', 'GetVideoBot', 'Droid_News', 'NANCYPAZOS',\n",
       "       'jeffbullas', 'mugtama', 'audiohipismo', 'infinite_scream',\n",
       "       'TriPiDok', 'ivoox', 'StudioFutbol', 'eldiario', 'Deputatipd',\n",
       "       'isamaulah', 'HosomiMeigenBot', 'desta_geboy', 'aranasi0123',\n",
       "       'TV9Bharatvarsh', 'theonevortex', 'okiaru', 'unchinodechina',\n",
       "       'El_Cooperante', 'botbissexual', '7A4ys', 'SOLELINKS',\n",
       "       'CeIebritease', 'vmkgf', 'wedsfgvxkmho', 'ActuaLitte',\n",
       "       'Politis_fr', 'iammab', 'Languedeuxpute', 'DownloaderBot',\n",
       "       'Michael_Ende_jp', 'MySexyGirlsPics', 'ISPSO', 'footballitalia',\n",
       "       'hair_make_', 'GMWatch', 'pubperspectives', 'webccp_com',\n",
       "       '200rt10', 'fantasysite', 'AdultBrazil', 'NancyVouge',\n",
       "       'AcePictureBot', 'macitynet', 'demarkesports', 'HiroGallery',\n",
       "       'WisdomToothVids', 'OleehSport', 'bot_Indian', 'IsraelNewsLinks',\n",
       "       'suraimunosouko', 'peruenlanoticia', 'agenciaacn', 'aberdeencity',\n",
       "       'plazadeportiva_', 'redaccionmedica', 'keloke_RD', 'Fact', 'ojogo',\n",
       "       'WhatCultureWWE', 'g0tmi1k', 'HAGEiND', 'VVP2_0', 'SevillaActual',\n",
       "       'Berain_water', 'nojiri_h', 'laotraliga_net', 'anticapi',\n",
       "       'PostaMgzn', 'Indulgencia_off', 'sexualgifs_', 'BelievePHQ',\n",
       "       'WarInstitute', 'SheeelDotCom', 'HeresYourReplay', 'tportal',\n",
       "       'RepubblicaTv', 'inyou_te', 'monokakigoi_bot', 'HVVStoerungen',\n",
       "       'obdriftwood', 'Newzroom405', 'Corona_News', 'DavidMurdico',\n",
       "       'TimepassOnline', 'dadsseed', 'LALAZIOMIA', 'rajupp',\n",
       "       'hoyesarte_com', 'El_Plural', 'sougofollow3', 'ranganaathan',\n",
       "       'camerbe', 'kanna_peche'], dtype=object)"
      ]
     },
     "execution_count": 16,
     "metadata": {},
     "output_type": "execute_result"
    }
   ],
   "source": [
    "##Si ejecutamos todo junto obtenemos los nombres que debemos estudiar si verdaderamente son bots\n",
    "find_names(fourth_split(third_split(second_split(primer_split(data)))))"
   ]
  },
  {
   "cell_type": "code",
   "execution_count": 17,
   "metadata": {},
   "outputs": [
    {
     "data": {
      "text/plain": [
       "Index(['id', 'id_str', 'name', 'screen_name', 'location', 'url', 'description',\n",
       "       'translator_type', 'protected', 'verified', 'followers_count',\n",
       "       'friends_count', 'listed_count', 'favourites_count', 'statuses_count',\n",
       "       'created_at', 'utc_offset', 'time_zone', 'geo_enabled', 'lang',\n",
       "       'contributors_enabled', 'is_translator', 'profile_background_color',\n",
       "       'profile_background_image_url', 'profile_background_image_url_https',\n",
       "       'profile_background_tile', 'profile_link_color',\n",
       "       'profile_sidebar_border_color', 'profile_sidebar_fill_color',\n",
       "       'profile_text_color', 'profile_use_background_image',\n",
       "       'profile_image_url', 'profile_image_url_https', 'default_profile',\n",
       "       'default_profile_image', 'following', 'follow_request_sent',\n",
       "       'notifications', 'profile_banner_url', 'isAutomated', 'source', 'id2',\n",
       "       'text', 'tweet_created_at', 'geo', 'coordinates', 'place',\n",
       "       'reply_count', 'retweet_count', 'favorite_count', 'favorited',\n",
       "       'retweeted', 'possibly_sensitive', 'timestamp_ms'],\n",
       "      dtype='object')"
      ]
     },
     "execution_count": 17,
     "metadata": {},
     "output_type": "execute_result"
    }
   ],
   "source": [
    "data.columns"
   ]
  },
  {
   "cell_type": "code",
   "execution_count": 18,
   "metadata": {},
   "outputs": [],
   "source": [
    "data[\"isBot\"] = 0"
   ]
  },
  {
   "cell_type": "markdown",
   "metadata": {},
   "source": [
    "## 3. Etiquetado de datos: columna \"isBot\""
   ]
  },
  {
   "cell_type": "code",
   "execution_count": 18,
   "metadata": {},
   "outputs": [],
   "source": [
    "for p in data.iterrows():\n",
    "    if (\"KangHen12\" in p[1]['screen_name'] or \"TAKAHIRO_EXbot\" in p[1]['screen_name'] or \"loliconder\" in p[1]['screen_name'] or \"KakGati\" in p[1]['screen_name'] or \"oppai_tanima1\" in p[1]['screen_name'] or \"tokutaro\" in p[1]['screen_name'] or \"TwitAA_bot\" in p[1]['screen_name'] or \"feb_feby91\" in p[1]['screen_name'] or \"futomomonoero\" in p[1]['screen_name'] or \"GetVideoBot\" in p[1]['screen_name'] or \"AbhiQeep\" in p[1]['screen_name'] or \"dognkitty\"in p[1]['screen_name'] or \"benymd_bot\" in p[1]['screen_name'] or \"m_almutairi\" in p[1]['screen_name'] or \"school_aruaru\" in p[1]['screen_name'] or \"ThahaKhabar\" in p[1]['screen_name'] or \"ginntama0525\" in p[1]['screen_name'] or \"veganfuture\" in p[1]['screen_name'] or \"DrLoverLova\" in p[1]['screen_name'] or \"yu___ichi07\" in p[1]['screen_name'] \n",
    "        or \"jatirado\" in p[1]['screen_name'] \n",
    "        or \"adutube\" in p[1]['screen_name'] \n",
    "        or \"few7432\" in p[1]['screen_name'] \n",
    "        or \"hiro_ta_so\" in p[1]['screen_name'] \n",
    "        or \"VysotskyQuote\" in p[1]['screen_name'] \n",
    "        or \"AbhiQeep\" in p[1]['screen_name'] \n",
    "        or \"waha1950\"in p[1]['screen_name']):\n",
    "        \n",
    "        data[\"isBot\"].iloc[p[0]] = 1"
   ]
  },
  {
   "cell_type": "code",
   "execution_count": 44,
   "metadata": {},
   "outputs": [
    {
     "data": {
      "text/plain": [
       "array([0, 1])"
      ]
     },
     "execution_count": 44,
     "metadata": {},
     "output_type": "execute_result"
    }
   ],
   "source": [
    "data['isBot'].unique()"
   ]
  },
  {
   "cell_type": "markdown",
   "metadata": {},
   "source": [
    "\n",
    "## 4. Transformaciones de atributos string a number para aplicar ML"
   ]
  },
  {
   "cell_type": "code",
   "execution_count": null,
   "metadata": {},
   "outputs": [],
   "source": [
    "from sklearn.preprocessing import LabelBinarizer\n",
    "encoder = LabelBinarizer()\n",
    "transfomed_label = encoder.fit_transform(data[\"verified\"])\n",
    "print(transfomed_label)"
   ]
  },
  {
   "cell_type": "code",
   "execution_count": 20,
   "metadata": {},
   "outputs": [
    {
     "data": {
      "text/plain": [
       "array([0, 0, 0, ..., 0, 0, 0])"
      ]
     },
     "execution_count": 20,
     "metadata": {},
     "output_type": "execute_result"
    }
   ],
   "source": [
    "from sklearn import preprocessing\n",
    "le = preprocessing.LabelEncoder()\n",
    "le.fit(data['verified'].unique())\n",
    "le.classes_\n",
    "vals = le.transform(data['verified'])\n",
    "vals"
   ]
  },
  {
   "cell_type": "code",
   "execution_count": 21,
   "metadata": {},
   "outputs": [],
   "source": [
    "data['verified_transform']= vals"
   ]
  },
  {
   "cell_type": "code",
   "execution_count": 22,
   "metadata": {},
   "outputs": [
    {
     "data": {
      "text/plain": [
       "array([1740,  684, 1740, ...,  685, 1740,  685])"
      ]
     },
     "execution_count": 22,
     "metadata": {},
     "output_type": "execute_result"
    }
   ],
   "source": [
    "from sklearn import preprocessing\n",
    "le = preprocessing.LabelEncoder()\n",
    "le.fit(data['source'].unique())\n",
    "le.classes_\n",
    "vals = le.transform(data['source'])\n",
    "vals"
   ]
  },
  {
   "cell_type": "code",
   "execution_count": 23,
   "metadata": {},
   "outputs": [],
   "source": [
    "data['source_transform']= vals\n"
   ]
  },
  {
   "cell_type": "code",
   "execution_count": 46,
   "metadata": {},
   "outputs": [
    {
     "data": {
      "text/plain": [
       "367    90720\n",
       "368    80848\n",
       "938    21265\n",
       "357     3893\n",
       "349     2822\n",
       "       ...  \n",
       "828        1\n",
       "572        1\n",
       "444        1\n",
       "316        1\n",
       "0          1\n",
       "Name: source_transform, Length: 1511, dtype: int64"
      ]
     },
     "execution_count": 46,
     "metadata": {},
     "output_type": "execute_result"
    }
   ],
   "source": [
    "data['source_transform'].value_counts()"
   ]
  },
  {
   "cell_type": "markdown",
   "metadata": {},
   "source": [
    "## 5. Guardado del Dataset"
   ]
  },
  {
   "cell_type": "code",
   "execution_count": null,
   "metadata": {},
   "outputs": [],
   "source": [
    "data.to_csv('TrainBot.csv',encoding='utf-8', index=False)"
   ]
  },
  {
   "cell_type": "code",
   "execution_count": null,
   "metadata": {},
   "outputs": [],
   "source": [
    "data.to_json('TrainBot.json')"
   ]
  }
 ],
 "metadata": {
  "kernelspec": {
   "display_name": "Python 3",
   "language": "python",
   "name": "python3"
  },
  "language_info": {
   "codemirror_mode": {
    "name": "ipython",
    "version": 3
   },
   "file_extension": ".py",
   "mimetype": "text/x-python",
   "name": "python",
   "nbconvert_exporter": "python",
   "pygments_lexer": "ipython3",
   "version": "3.7.6"
  }
 },
 "nbformat": 4,
 "nbformat_minor": 4
}
